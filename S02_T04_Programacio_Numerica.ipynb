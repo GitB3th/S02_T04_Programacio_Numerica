{
 "cells": [
  {
   "cell_type": "markdown",
   "id": "10c41444",
   "metadata": {},
   "source": [
    "# S02_T04_Programació_Numérica\n",
    "\n",
    "### Ex1:Crea una funció que donat un Array d’una dimensió, et faci un resum estadístic bàsic de les dades. Si detecta que l’array té més d’una dimensió, ha de mostrar un missatge d’error"
   ]
  },
  {
   "cell_type": "code",
   "execution_count": 24,
   "id": "07b08d2c",
   "metadata": {
    "ExecuteTime": {
     "end_time": "2022-02-22T11:58:12.835357Z",
     "start_time": "2022-02-22T11:58:12.817407Z"
    }
   },
   "outputs": [
    {
     "name": "stdout",
     "output_type": "stream",
     "text": [
      "1\n",
      "Resum estadistic:\n",
      "mean: = 55.25 median: = 50.5 first_cuartil: = 40.0 third_cuartil: =69.25 desv_standard: =22.134531845060557\n"
     ]
    }
   ],
   "source": [
    "import numpy as np\n",
    "def resum_estadistic_func(array_1D):\n",
    "    if array_1D.ndim != 1:\n",
    "        print(\"Error: This function only works with 1 Dimension Arrays\")\n",
    "    else:\n",
    "        mean = np.mean(array_1D)\n",
    "        median = np.median(array_1D)\n",
    "        first_cuartil = np.percentile(array_1D, 25)\n",
    "        third_cuartil = np.percentile(array_1D, 75)\n",
    "        desv_standard = np.std(array_1D)\n",
    "        print(\"Resum estadistic:\\nmean: = \" + str(mean) + \" median: = \" + str(median) +\n",
    "            \" first_cuartil: = \" + str(first_cuartil) + \" third_cuartil: =\" + str(third_cuartil) +\n",
    "            \" desv_standard: =\" + str(desv_standard))\n",
    "\n",
    "valors = np.array([45, 89, 56, 25, 63, 88, 42, 34])\n",
    "print (valors.ndim)\n",
    "resum_estadistic_func(valors)\n",
    "             \n",
    "    "
   ]
  },
  {
   "cell_type": "markdown",
   "id": "b900ec28",
   "metadata": {},
   "source": [
    "### Ex2: Crea una funció que et generi un quadrat NxN de nombres aleatoris entre el 0 i el 100"
   ]
  },
  {
   "cell_type": "code",
   "execution_count": 31,
   "id": "2047e7c0",
   "metadata": {
    "ExecuteTime": {
     "end_time": "2022-02-22T12:48:02.536251Z",
     "start_time": "2022-02-22T12:48:02.425833Z"
    }
   },
   "outputs": [
    {
     "name": "stdout",
     "output_type": "stream",
     "text": [
      "[[67, 93, 28, 90], [17, 2, 3, 44], [91, 81, 2, 62], [88, 30, 98, 9]]\n"
     ]
    }
   ],
   "source": [
    "import numpy as np\n",
    "def generar_array(num):\n",
    "    array=[]\n",
    "    \n",
    "    for x in range(num):\n",
    "        fila=[]\n",
    "        for y in range(num):\n",
    "            fila.append(np.random.randint(100))\n",
    "        array.append(fila)\n",
    "    return array\n",
    "\n",
    "array_result = generar_array(4)\n",
    "print(array_result)"
   ]
  },
  {
   "cell_type": "markdown",
   "id": "20edf739",
   "metadata": {},
   "source": [
    "### Ex3: Crea una funció que donada una taula de dues dimensions, et calculi els totals per fila i els totals per columna"
   ]
  },
  {
   "cell_type": "code",
   "execution_count": 41,
   "id": "32fb92bc",
   "metadata": {
    "ExecuteTime": {
     "end_time": "2022-02-22T13:17:54.887925Z",
     "start_time": "2022-02-22T13:17:54.878949Z"
    }
   },
   "outputs": [
    {
     "name": "stdout",
     "output_type": "stream",
     "text": [
      "[12 15]\n",
      "[ 9 18]\n",
      "Error: This function only works with 2 Dimension Arrays\n"
     ]
    }
   ],
   "source": [
    "import numpy as np\n",
    "def calculs_array2D(array_2D):\n",
    "    if array_2D.ndim != 2:\n",
    "        print(\"Error: This function only works with 2 Dimension Arrays\")\n",
    "    \n",
    "    else:\n",
    "        \n",
    "        print(array_2D.sum(axis=0))\n",
    "\n",
    "        print(array_2D.sum(axis=1))\n",
    "    \n",
    "valors_utils = np.array([[4, 5], [8, 10]])\n",
    "calculs_array2D(valors_utils)\n",
    "\n",
    "valors_error = np.array([4, 5, 8, 10])\n",
    "calculs_array2D(valors_error)"
   ]
  },
  {
   "cell_type": "markdown",
   "id": "487768f8",
   "metadata": {},
   "source": [
    "### Ex4: Implementa manualment una funció que calculi el coeficient de correlació. Informa’t-en sobre els seus usos i interpretació"
   ]
  },
  {
   "cell_type": "code",
   "execution_count": null,
   "id": "e9cf7349",
   "metadata": {},
   "outputs": [],
   "source": [
    "import numpy as np\n",
    "\n",
    "def calcul_coef_correlacio(arr1, arr2)\n",
    "\n",
    "    covarian = np.cov(arr1,arr2)\n",
    "    desv_standard_arr1 = np.std(arr1)\n",
    "    desv_standard_arr2 = np.std(arr2)\n",
    "    if (desv_standard_arr1 == 0 or desv_standard_arr1 == 0):\n",
    "        print(\"Error\")\n",
    "    else:\n",
    "        correl = covarian / dev_standard_arr1 * desv_standard_arr2\n",
    "        print(correl)\n",
    "    "
   ]
  },
  {
   "cell_type": "markdown",
   "id": "bcbb7a32",
   "metadata": {},
   "source": []
  }
 ],
 "metadata": {
  "kernelspec": {
   "display_name": "Python 3 (ipykernel)",
   "language": "python",
   "name": "python3"
  },
  "language_info": {
   "codemirror_mode": {
    "name": "ipython",
    "version": 3
   },
   "file_extension": ".py",
   "mimetype": "text/x-python",
   "name": "python",
   "nbconvert_exporter": "python",
   "pygments_lexer": "ipython3",
   "version": "3.9.7"
  },
  "latex_envs": {
   "LaTeX_envs_menu_present": true,
   "autoclose": false,
   "autocomplete": true,
   "bibliofile": "biblio.bib",
   "cite_by": "apalike",
   "current_citInitial": 1,
   "eqLabelWithNumbers": true,
   "eqNumInitial": 1,
   "hotkeys": {
    "equation": "Ctrl-E",
    "itemize": "Ctrl-I"
   },
   "labels_anchors": false,
   "latex_user_defs": false,
   "report_style_numbering": false,
   "user_envs_cfg": false
  }
 },
 "nbformat": 4,
 "nbformat_minor": 5
}
